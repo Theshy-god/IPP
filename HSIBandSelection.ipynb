{
 "cells": [
  {
   "cell_type": "markdown",
   "metadata": {
    "id": "4zDnCDaKUoqP"
   },
   "source": [
    "# Hyperspectral Band Selection\n",
    "\n",
    "In this notebook, we'll demonstrate how to use our Inter-band redundancy method (IBRA) and the [Greedy Spectral Selection](https://www.mdpi.com/2072-4292/13/18/3649) (GSS) for hyperspectral band selection. IBRA can also be used in combination with Principal Component Analysis (PCA) and Partial Least Squares (PLS) for dimensionality reduction.\n",
    "\n",
    "## Installation\n",
    "\n",
    "Execute `!pip install git+https://github.com/NISL-MSU/HSI-BandSelection`\n",
    "\n"
   ]
  },
  {
   "cell_type": "code",
   "execution_count": 2,
   "metadata": {
    "ExecuteTime": {
     "end_time": "2024-05-10T13:27:05.375108Z",
     "start_time": "2024-05-10T13:26:58.968962Z"
    },
    "colab": {
     "base_uri": "https://localhost:8080/"
    },
    "id": "LpT8OosiUk4q",
    "outputId": "5d905535-060f-48b8-b37d-d98f7d43ec05"
   },
   "outputs": [],
   "source": [
    "!pip install -q git+https://github.com/NISL-MSU/HSI-BandSelection\n",
    "import warnings\n",
    "warnings.filterwarnings(\"ignore\")"
   ]
  },
  {
   "cell_type": "markdown",
   "metadata": {
    "id": "PAvo_sJuVH5o"
   },
   "source": [
    "## Load your data\n",
    "\n",
    "You can bring your own HSI classification dataset. Format the input data as a set of image data cubes of shape $(N, w, h, b)$, where $N$ is the number of data cubes, $w$ and $h$ are the width and the height of the cubes, and $b$ is the number of spectral bands. You could use the `createImageCubes` method, provided [here](https://github.com/NISL-MSU/HSI-BandSelection/blob/master/src/HSIBandSelection/readSAT.py#L47), as a reference to format your data.\n",
    "\n",
    "In this example, we will load the Indian Pines dataset, which is an image with shape `(145, 145, 200)`."
   ]
  },
  {
   "cell_type": "code",
   "execution_count": 3,
   "metadata": {
    "ExecuteTime": {
     "end_time": "2024-05-10T13:27:09.894Z",
     "start_time": "2024-05-10T13:27:09.627341Z"
    },
    "colab": {
     "base_uri": "https://localhost:8080/"
    },
    "id": "D-Hgf37-VG98",
    "outputId": "c686c513-ab52-4a12-90c2-0099afe449b3"
   },
   "outputs": [
    {
     "name": "stdout",
     "output_type": "stream",
     "text": [
      "Initial image shape: (145, 145, 200)\n",
      "Processed dataset shape: (10249, 5, 5, 200)\n"
     ]
    }
   ],
   "source": [
    "from src.HSIBandSelection.readSAT import loadata, createImageCubes\n",
    "X, Y = loadata(name='IP')\n",
    "print('Initial image shape: ' + str(X.shape))\n",
    "\n",
    "X, Y = createImageCubes(X, Y, window=5)\n",
    "print('Processed dataset shape: ' + str(X.shape))"
   ]
  },
  {
   "cell_type": "markdown",
   "metadata": {
    "id": "xy57K-xukuWw"
   },
   "source": [
    "In this case, we loaded a HS image saved in our package. It doesn't matter where you bring the data from, you only need to provide the $X$ (input data) and $Y$ (target labels) matrices. In addition, assign your dataset a name; otherwise, it will be called `temp`. With these three elements, we create a data object:"
   ]
  },
  {
   "cell_type": "code",
   "execution_count": 4,
   "metadata": {
    "ExecuteTime": {
     "end_time": "2024-05-10T13:27:21.697980Z",
     "start_time": "2024-05-10T13:27:21.689691Z"
    },
    "id": "AbDs3T5YlVhK"
   },
   "outputs": [],
   "source": [
    "from HSIBandSelection.utils import Dataset\n",
    "dataset = Dataset(train_x=X, train_y=Y, name='IP')"
   ]
  },
  {
   "cell_type": "markdown",
   "metadata": {
    "id": "HSWSjz_6nKRv"
   },
   "source": [
    "## Execute the Band Selection / Dimensionality Reduction Algorithm\n",
    "\n",
    "We'll use the `SelectBands` class. **Parameters**:\n",
    "\n",
    "*   `dataset`: utils.Dataset object\n",
    "*   `method`: Method name. Options: 'IBRA', 'GSS' (IBRA+GSS), 'PCA' (IBRA+PCA), and 'PLS' (IBRA+PLS)\n",
    "*   `classifier`: Classifier type. Options: 'CNN' (if data is 2D), 'ANN', 'RF', 'SVM'. *Default:* 'CNN'\n",
    "*   `nbands`: How many spectral bands you want to select or reduce to. *Default:* 5\n",
    "*   `transform`: If True, the final selected bands will suffer a Gaussian transformation to simulate being a multispectral band. *Default:* False\n",
    "*   `average`: If True, average consecutive bands to reduce the initial total # of bands to half. *Default:* False\n",
    "*   `epochs`: Number of iterations used to train the NN models. *Default:* 150\n",
    "*   `batch_size`: Batch size used to train the NN models. *Default:* 128\n",
    "*   `scratch`: If True, execute the IBRA process from scratch and replace previously saved results. *Default:* True\n",
    "\n",
    "\n",
    "\n",
    "\n",
    "\n",
    "\n",
    "\n",
    "\n",
    "\n",
    "\n"
   ]
  },
  {
   "cell_type": "code",
   "execution_count": 5,
   "metadata": {
    "ExecuteTime": {
     "end_time": "2024-05-10T13:27:25.825041Z",
     "start_time": "2024-05-10T13:27:24.344431Z"
    },
    "id": "6spOOMfK0sgn"
   },
   "outputs": [],
   "source": [
    "from HSIBandSelection.SelectBands import SelectBands\n",
    "selector = SelectBands(dataset=dataset, method='GSS', nbands=5)"
   ]
  },
  {
   "cell_type": "markdown",
   "metadata": {
    "id": "1nFxKPiL0sym"
   },
   "source": [
    "From the SelectBands class, we call the `run_selection` method. **Parameters**:\n",
    "\n",
    "*   `init_vf`: Initial Variance Inflation Factor threshold (used for IBRA). *Default: 12*\n",
    "*   `final_vf`: Final Variance Inflation Factor threshold (used for IBRA). *Default: 5*\n",
    "\n",
    "\n",
    "\n",
    "**Return**:\n",
    "\n",
    "If the selected method is IBRA:\n",
    "\n",
    "*   `VIF_best`: The VIF threshold at which the best results were obtained\n",
    "*   `IBRA_best`: The best pre-selected bands using Iner-band redundancy\n",
    "*   `stats_best`: The best performance metric values obtained after 5x2 CV using the selected bands\n",
    "\n",
    "If the selected method is GSS:\n",
    "\n",
    "*   `VIF_best`: The VIF threshold at which the best results were obtained\n",
    "*   `IBRA_best`: The best pre-selected bands using Iner-band redundancy\n",
    "*   `GSS_best`: The best combination of bands obtained using GSS\n",
    "*   `stats_best`: The best performance metric values obtained after 5x2 CV using the selected bands\n",
    "\n",
    "If the selected method is PCA or PLS:\n",
    "\n",
    "*   `VIF_best`: The VIF threshold at which the best results were obtained\n",
    "*   `IBRA_best`: The best pre-selected bands using Iner-band redundancy\n",
    "*   `reduced_dataset`: The reduced dataset after applying PCA or PLS to the pre-selected bands\n",
    "*   `stats_best`: The best performance metric values obtained after 5x2 CV using the reduced bands\n",
    "\n",
    "**IMPORTANT**: This code is implemented using Pytorch. If you're running this on Google Colab, change the runtime type to GPU to accelerate the training process!"
   ]
  },
  {
   "cell_type": "code",
   "execution_count": null,
   "metadata": {
    "ExecuteTime": {
     "end_time": "2024-05-10T14:12:35.016124Z",
     "start_time": "2024-05-10T13:27:29.552955Z"
    },
    "colab": {
     "base_uri": "https://localhost:8080/",
     "height": 391
    },
    "id": "jmC_oR_f0tBO",
    "outputId": "872c7180-4ba3-490a-f6f3-23038798452b"
   },
   "outputs": [
    {
     "name": "stdout",
     "output_type": "stream",
     "text": [
      "*************************************\n",
      "Testing VIF threshold: 11\n",
      "*************************************\n",
      "Selecting bands:  [0, 7, 11, 15, 17, 20, 26, 34, 37, 39, 47, 56, 58, 60, 67, 74, 78, 89, 99, 104, 109, 125, 142, 144, 146, 148, 150, 169, 191, 198]\n",
      "Executing IBRA + GSS (Greddy Spectral Selection)\n",
      "\tAnalyzing candidate combination 1. 5x2 CV using bands: [17, 20, 26, 37, 47]\n"
     ]
    },
    {
     "name": "stderr",
     "output_type": "stream",
     "text": [
      "\r",
      "  0%|                                                    | 0/10 [00:00<?, ?it/s]"
     ]
    }
   ],
   "source": [
    "VIF_best, IBRA_best, GSS_best, stats_best =selector.run_selection(init_vf=11, final_vf=9)"
   ]
  },
  {
   "cell_type": "code",
   "execution_count": 6,
   "metadata": {
    "id": "HEvtF6hy7Nr6"
   },
   "outputs": [
    {
     "name": "stdout",
     "output_type": "stream",
     "text": [
      "The best metrics were obtained using a VIF value of 10\n",
      "The pre-selected bands obtained by IBRA wew [0, 7, 11, 15, 17, 25, 34, 37, 39, 44, 47, 56, 58, 60, 67, 74, 78, 86, 93, 99, 104, 109, 125, 142, 144, 146, 148, 150, 169, 191, 199]\n",
      "The pre-selected bands obtained by IBRA+GSS wew [11, 25, 34, 39, 67]\n",
      "The best classification metrics were as follows:\n",
      "Stats(mean_accuracy=97.90243902439025, std_accuracy=0.25474439254362624, mean_precision=98.2594345663942, std_precision=0.29439238546148844, mean_recall=97.63255042170843, std_recall=0.727851940440311, mean_f1=97.89117044278429, std_f1=0.41396655152957146)\n"
     ]
    }
   ],
   "source": [
    "print('The best metrics were obtained using a VIF value of {}'.format(VIF_best))\n",
    "print('The pre-selected bands obtained by IBRA wew {}'.format(IBRA_best))\n",
    "print('The pre-selected bands obtained by IBRA+GSS wew {}'.format(GSS_best))\n",
    "print('The best classification metrics were as follows:')\n",
    "print(stats_best)"
   ]
  }
 ],
 "metadata": {
  "accelerator": "GPU",
  "colab": {
   "gpuType": "T4",
   "provenance": []
  },
  "kernelspec": {
   "display_name": "Python 3 (ipykernel)",
   "language": "python",
   "name": "python3"
  },
  "language_info": {
   "codemirror_mode": {
    "name": "ipython",
    "version": 3
   },
   "file_extension": ".py",
   "mimetype": "text/x-python",
   "name": "python",
   "nbconvert_exporter": "python",
   "pygments_lexer": "ipython3",
   "version": "3.11.5"
  }
 },
 "nbformat": 4,
 "nbformat_minor": 4
}
